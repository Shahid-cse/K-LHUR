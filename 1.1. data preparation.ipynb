{
  "cells": [
    {
      "cell_type": "code",
      "execution_count": 3,
      "metadata": {
        "id": "dYje8qcdaROg"
      },
      "outputs": [],
      "source": [
        "import networkx as nx\n",
        "import matplotlib.pyplot as plt\n",
        "import numpy as np\n",
        "import pandas as pd"
      ]
    },
    {
      "cell_type": "code",
      "execution_count": null,
      "metadata": {
        "id": "8UQErW96aROh"
      },
      "outputs": [],
      "source": [
        "#load road network & physical features\n",
        "data_dir = 'D:/Thesis/dataset/Road/'\n",
        "road_net = pd.read_csv(data_dir + 'Roadnetwork.txt',delimiter='\\s+', header=None, index_col=False) \n",
        "road_ftrs = pd.read_csv(data_dir + 'Roadfeature.txt',delimiter='\\s+', header=None, index_col=False) \n"
      ]
    },
    {
      "cell_type": "code",
      "execution_count": 5,
      "metadata": {},
      "outputs": [],
      "source": [
        "# road_ftr = road_ftrs.loc[:,0:7]\n",
        "road_ftrs.columns =['road_id','length','lanes','max_speed','dir','level','tor','n_connnections','school','ofc', 'bnk', 'mall', 'rest', 'gas_st', 'spot', 'hotel', 'trans', 'living_ser', 'sum_poi']"
      ]
    },
    {
      "cell_type": "code",
      "execution_count": 6,
      "metadata": {
        "id": "xXstgrXkaROh",
        "outputId": "8da3e9d1-98a8-461f-87d7-7b4ea6915009"
      },
      "outputs": [],
      "source": [
        "def calculate_weighted_poi(df):\n",
        "    # Define realistic weights for each POI type\n",
        "    weights = {\n",
        "        'school': 1.3,\n",
        "        'ofc': 1.2,\n",
        "        'bnk': 1.0,\n",
        "        'mall': 1.5,\n",
        "        'rest': 1.1,\n",
        "        'gas_st': 0.8,\n",
        "        'spot': 1.4,\n",
        "        'hotel': 1.0,\n",
        "        'trans': 1.6,\n",
        "        'living_ser': 0.9\n",
        "    }\n",
        "    \n",
        "    # List of POI columns\n",
        "    poi_columns = ['school', 'ofc', 'bnk', 'mall', 'rest', 'gas_st',\n",
        "                   'spot', 'hotel', 'trans', 'living_ser']\n",
        "    \n",
        "    # Calculate weighted POI score\n",
        "    df['weighted_POI'] = df[poi_columns].mul(pd.Series(weights)).sum(axis=1)\n",
        "    \n",
        "    return df['weighted_POI']"
      ]
    },
    {
      "cell_type": "code",
      "execution_count": 7,
      "metadata": {},
      "outputs": [],
      "source": [
        "road_ftrs['weighted_POI'] = calculate_weighted_poi(road_ftrs)"
      ]
    },
    {
      "cell_type": "code",
      "execution_count": 8,
      "metadata": {},
      "outputs": [],
      "source": [
        "level1_ftrs = road_ftrs[road_ftrs['level']<= 1]\n",
        "level2_ftrs = road_ftrs[road_ftrs['level']== 2]\n",
        "level3_ftrs = road_ftrs[road_ftrs['level']>= 3]"
      ]
    },
    {
      "cell_type": "code",
      "execution_count": 9,
      "metadata": {},
      "outputs": [
        {
          "data": {
            "text/html": [
              "<div>\n",
              "<style scoped>\n",
              "    .dataframe tbody tr th:only-of-type {\n",
              "        vertical-align: middle;\n",
              "    }\n",
              "\n",
              "    .dataframe tbody tr th {\n",
              "        vertical-align: top;\n",
              "    }\n",
              "\n",
              "    .dataframe thead th {\n",
              "        text-align: right;\n",
              "    }\n",
              "</style>\n",
              "<table border=\"1\" class=\"dataframe\">\n",
              "  <thead>\n",
              "    <tr style=\"text-align: right;\">\n",
              "      <th></th>\n",
              "      <th>road_id</th>\n",
              "      <th>length</th>\n",
              "      <th>lanes</th>\n",
              "      <th>max_speed</th>\n",
              "      <th>dir</th>\n",
              "      <th>level</th>\n",
              "      <th>tor</th>\n",
              "      <th>n_connnections</th>\n",
              "      <th>school</th>\n",
              "      <th>ofc</th>\n",
              "      <th>bnk</th>\n",
              "      <th>mall</th>\n",
              "      <th>rest</th>\n",
              "      <th>gas_st</th>\n",
              "      <th>spot</th>\n",
              "      <th>hotel</th>\n",
              "      <th>trans</th>\n",
              "      <th>living_ser</th>\n",
              "      <th>sum_poi</th>\n",
              "      <th>weighted_POI</th>\n",
              "    </tr>\n",
              "  </thead>\n",
              "  <tbody>\n",
              "    <tr>\n",
              "      <th>129</th>\n",
              "      <td>129</td>\n",
              "      <td>460.532158</td>\n",
              "      <td>1</td>\n",
              "      <td>8.333333</td>\n",
              "      <td>0</td>\n",
              "      <td>1</td>\n",
              "      <td>1.005370</td>\n",
              "      <td>4</td>\n",
              "      <td>0</td>\n",
              "      <td>0</td>\n",
              "      <td>0</td>\n",
              "      <td>0</td>\n",
              "      <td>0</td>\n",
              "      <td>0</td>\n",
              "      <td>0</td>\n",
              "      <td>0</td>\n",
              "      <td>0</td>\n",
              "      <td>0</td>\n",
              "      <td>0</td>\n",
              "      <td>0.0</td>\n",
              "    </tr>\n",
              "    <tr>\n",
              "      <th>130</th>\n",
              "      <td>130</td>\n",
              "      <td>411.439939</td>\n",
              "      <td>2</td>\n",
              "      <td>30.555556</td>\n",
              "      <td>0</td>\n",
              "      <td>0</td>\n",
              "      <td>1.000000</td>\n",
              "      <td>2</td>\n",
              "      <td>0</td>\n",
              "      <td>0</td>\n",
              "      <td>0</td>\n",
              "      <td>0</td>\n",
              "      <td>0</td>\n",
              "      <td>0</td>\n",
              "      <td>0</td>\n",
              "      <td>0</td>\n",
              "      <td>0</td>\n",
              "      <td>0</td>\n",
              "      <td>0</td>\n",
              "      <td>0.0</td>\n",
              "    </tr>\n",
              "    <tr>\n",
              "      <th>131</th>\n",
              "      <td>131</td>\n",
              "      <td>419.201938</td>\n",
              "      <td>2</td>\n",
              "      <td>30.555556</td>\n",
              "      <td>0</td>\n",
              "      <td>0</td>\n",
              "      <td>1.000000</td>\n",
              "      <td>0</td>\n",
              "      <td>0</td>\n",
              "      <td>0</td>\n",
              "      <td>0</td>\n",
              "      <td>0</td>\n",
              "      <td>0</td>\n",
              "      <td>0</td>\n",
              "      <td>0</td>\n",
              "      <td>0</td>\n",
              "      <td>0</td>\n",
              "      <td>0</td>\n",
              "      <td>0</td>\n",
              "      <td>0.0</td>\n",
              "    </tr>\n",
              "    <tr>\n",
              "      <th>179</th>\n",
              "      <td>179</td>\n",
              "      <td>668.251186</td>\n",
              "      <td>2</td>\n",
              "      <td>30.555556</td>\n",
              "      <td>0</td>\n",
              "      <td>0</td>\n",
              "      <td>1.000559</td>\n",
              "      <td>2</td>\n",
              "      <td>0</td>\n",
              "      <td>0</td>\n",
              "      <td>0</td>\n",
              "      <td>0</td>\n",
              "      <td>0</td>\n",
              "      <td>0</td>\n",
              "      <td>0</td>\n",
              "      <td>0</td>\n",
              "      <td>0</td>\n",
              "      <td>0</td>\n",
              "      <td>0</td>\n",
              "      <td>0.0</td>\n",
              "    </tr>\n",
              "    <tr>\n",
              "      <th>180</th>\n",
              "      <td>180</td>\n",
              "      <td>660.378796</td>\n",
              "      <td>2</td>\n",
              "      <td>30.555556</td>\n",
              "      <td>0</td>\n",
              "      <td>0</td>\n",
              "      <td>1.000547</td>\n",
              "      <td>2</td>\n",
              "      <td>0</td>\n",
              "      <td>0</td>\n",
              "      <td>0</td>\n",
              "      <td>0</td>\n",
              "      <td>1</td>\n",
              "      <td>0</td>\n",
              "      <td>0</td>\n",
              "      <td>0</td>\n",
              "      <td>0</td>\n",
              "      <td>0</td>\n",
              "      <td>1</td>\n",
              "      <td>1.1</td>\n",
              "    </tr>\n",
              "  </tbody>\n",
              "</table>\n",
              "</div>"
            ],
            "text/plain": [
              "     road_id      length  lanes  max_speed  dir  level       tor  \\\n",
              "129      129  460.532158      1   8.333333    0      1  1.005370   \n",
              "130      130  411.439939      2  30.555556    0      0  1.000000   \n",
              "131      131  419.201938      2  30.555556    0      0  1.000000   \n",
              "179      179  668.251186      2  30.555556    0      0  1.000559   \n",
              "180      180  660.378796      2  30.555556    0      0  1.000547   \n",
              "\n",
              "     n_connnections  school  ofc  bnk  mall  rest  gas_st  spot  hotel  trans  \\\n",
              "129               4       0    0    0     0     0       0     0      0      0   \n",
              "130               2       0    0    0     0     0       0     0      0      0   \n",
              "131               0       0    0    0     0     0       0     0      0      0   \n",
              "179               2       0    0    0     0     0       0     0      0      0   \n",
              "180               2       0    0    0     0     1       0     0      0      0   \n",
              "\n",
              "     living_ser  sum_poi  weighted_POI  \n",
              "129           0        0           0.0  \n",
              "130           0        0           0.0  \n",
              "131           0        0           0.0  \n",
              "179           0        0           0.0  \n",
              "180           0        1           1.1  "
            ]
          },
          "execution_count": 9,
          "metadata": {},
          "output_type": "execute_result"
        }
      ],
      "source": [
        "level1_ftrs.head()"
      ]
    },
    {
      "cell_type": "code",
      "execution_count": 10,
      "metadata": {},
      "outputs": [
        {
          "data": {
            "text/plain": [
              "Index(['road_id', 'length', 'lanes', 'max_speed', 'dir', 'level', 'tor',\n",
              "       'n_connnections', 'school', 'ofc', 'bnk', 'mall', 'rest', 'gas_st',\n",
              "       'spot', 'hotel', 'trans', 'living_ser', 'sum_poi', 'weighted_POI'],\n",
              "      dtype='object')"
            ]
          },
          "execution_count": 10,
          "metadata": {},
          "output_type": "execute_result"
        }
      ],
      "source": [
        "level1_ftrs.columns"
      ]
    },
    {
      "cell_type": "code",
      "execution_count": 49,
      "metadata": {},
      "outputs": [],
      "source": [
        "output_dir = 'D:/Thesis/files_output_dir/output_preprocessing/'\n",
        "level1_ftrs.to_csv(output_dir + 'level1_ftrs.csv',index=False)\n",
        "level2_ftrs.to_csv(output_dir + 'level2_ftrs.csv',index=False)\n",
        "level3_ftrs.to_csv(output_dir + 'level3_ftrs.csv',index=False)"
      ]
    },
    {
      "cell_type": "code",
      "execution_count": 17,
      "metadata": {},
      "outputs": [
        {
          "data": {
            "image/png": "[encoded data removed]",
            "text/plain": [
              "<Figure size 1000x1500 with 3 Axes>"
            ]
          },
          "metadata": {},
          "output_type": "display_data"
        }
      ],
      "source": [
        "# Creating subplots for each dataframe's 'weighted_POI' with x-axis limited to 100\n",
        "fig, axes = plt.subplots(nrows=3, ncols=1, figsize=(10, 15))\n",
        "\n",
        "# Plotting histogram for level1_ftrs\n",
        "axes[0].hist(level1_ftrs['weighted_POI'], bins=30, color='skyblue', edgecolor='black')\n",
        "axes[0].set_title('Histogram of Weighted POI - Level 1')\n",
        "axes[0].set_xlabel('Weighted POI')\n",
        "axes[0].set_ylabel('Frequency')\n",
        "axes[0].grid(axis='y')\n",
        "axes[0].set_xlim(0, 100)\n",
        "\n",
        "# Plotting histogram for level2_ftrs\n",
        "axes[1].hist(level2_ftrs['weighted_POI'], bins=30, color='lightgreen', edgecolor='black')\n",
        "axes[1].set_title('Histogram of Weighted POI - Level 2')\n",
        "axes[1].set_xlabel('Weighted POI')\n",
        "axes[1].set_ylabel('Frequency')\n",
        "axes[1].grid(axis='y')\n",
        "axes[1].set_xlim(0, 100)\n",
        "\n",
        "# Plotting histogram for level3_ftrs\n",
        "axes[2].hist(level3_ftrs['weighted_POI'], bins=30, color='salmon', edgecolor='black')\n",
        "axes[2].set_title('Histogram of Weighted POI - Level 3')\n",
        "axes[2].set_xlabel('Weighted POI')\n",
        "axes[2].set_ylabel('Frequency')\n",
        "axes[2].grid(axis='y')\n",
        "axes[2].set_xlim(0, 100)\n",
        "\n",
        "# Displaying the plots with x-axis limited to 100\n",
        "plt.tight_layout()\n",
        "plt.show()\n"
      ]
    },
    {
      "cell_type": "markdown",
      "metadata": {},
      "source": [
        "## History Speed"
      ]
    },
    {
      "cell_type": "code",
      "execution_count": 50,
      "metadata": {},
      "outputs": [],
      "source": [
        "data_dir = 'D:/Thesis/dataset/Speed History/'"
      ]
    },
    {
      "cell_type": "code",
      "execution_count": 51,
      "metadata": {},
      "outputs": [
        {
          "name": "stderr",
          "output_type": "stream",
          "text": [
            "<>:1: SyntaxWarning: invalid escape sequence '\\s'\n",
            "<>:1: SyntaxWarning: invalid escape sequence '\\s'\n",
            "C:\\Users\\k\\AppData\\Local\\Temp\\ipykernel_17136\\1857284427.py:1: SyntaxWarning: invalid escape sequence '\\s'\n",
            "  history_speed_workday = pd.read_csv(data_dir + \"history.workday.speed\", sep='\\s+',header=None)\n"
          ]
        }
      ],
      "source": [
        "history_speed_workday = pd.read_csv(data_dir + \"history.workday.speed\", sep='\\s+',header=None)\n",
        "history_speed_workday.columns = ['road_id','time','avg_speed','avg_speed std','no_taxi_car']"
      ]
    },
    {
      "cell_type": "code",
      "execution_count": 52,
      "metadata": {},
      "outputs": [
        {
          "name": "stderr",
          "output_type": "stream",
          "text": [
            "<>:1: SyntaxWarning: invalid escape sequence '\\s'\n",
            "<>:1: SyntaxWarning: invalid escape sequence '\\s'\n",
            "C:\\Users\\k\\AppData\\Local\\Temp\\ipykernel_17136\\2282552186.py:1: SyntaxWarning: invalid escape sequence '\\s'\n",
            "  history_speed_holiday = pd.read_csv(data_dir + \"history.holiday.speed\", sep='\\s+',header=None)\n"
          ]
        }
      ],
      "source": [
        "history_speed_holiday = pd.read_csv(data_dir + \"history.holiday.speed\", sep='\\s+',header=None)\n",
        "history_speed_holiday.columns = ['road_id','time','avg_speed','avg_speed std','no_taxi_car']"
      ]
    },
    {
      "cell_type": "code",
      "execution_count": 37,
      "metadata": {},
      "outputs": [
        {
          "data": {
            "text/plain": [
              "(7190368, 5)"
            ]
          },
          "execution_count": 37,
          "metadata": {},
          "output_type": "execute_result"
        }
      ],
      "source": [
        "history_speed_workday.shape\n",
        "history_speed_holiday.shape"
      ]
    },
    {
      "cell_type": "code",
      "execution_count": 38,
      "metadata": {},
      "outputs": [
        {
          "data": {
            "text/html": [
              "<div>\n",
              "<style scoped>\n",
              "    .dataframe tbody tr th:only-of-type {\n",
              "        vertical-align: middle;\n",
              "    }\n",
              "\n",
              "    .dataframe tbody tr th {\n",
              "        vertical-align: top;\n",
              "    }\n",
              "\n",
              "    .dataframe thead th {\n",
              "        text-align: right;\n",
              "    }\n",
              "</style>\n",
              "<table border=\"1\" class=\"dataframe\">\n",
              "  <thead>\n",
              "    <tr style=\"text-align: right;\">\n",
              "      <th></th>\n",
              "      <th>road_id</th>\n",
              "      <th>time</th>\n",
              "      <th>avg_speed</th>\n",
              "      <th>avg_speed std</th>\n",
              "      <th>no_taxi_car</th>\n",
              "    </tr>\n",
              "  </thead>\n",
              "  <tbody>\n",
              "    <tr>\n",
              "      <th>0</th>\n",
              "      <td>4</td>\n",
              "      <td>0</td>\n",
              "      <td>13.251063</td>\n",
              "      <td>2.861841</td>\n",
              "      <td>4</td>\n",
              "    </tr>\n",
              "    <tr>\n",
              "      <th>1</th>\n",
              "      <td>7</td>\n",
              "      <td>0</td>\n",
              "      <td>8.909047</td>\n",
              "      <td>4.204858</td>\n",
              "      <td>21</td>\n",
              "    </tr>\n",
              "    <tr>\n",
              "      <th>2</th>\n",
              "      <td>8</td>\n",
              "      <td>0</td>\n",
              "      <td>4.800125</td>\n",
              "      <td>5.773583</td>\n",
              "      <td>27</td>\n",
              "    </tr>\n",
              "    <tr>\n",
              "      <th>3</th>\n",
              "      <td>19</td>\n",
              "      <td>0</td>\n",
              "      <td>10.867663</td>\n",
              "      <td>6.115532</td>\n",
              "      <td>10</td>\n",
              "    </tr>\n",
              "    <tr>\n",
              "      <th>4</th>\n",
              "      <td>20</td>\n",
              "      <td>0</td>\n",
              "      <td>11.762047</td>\n",
              "      <td>1.951945</td>\n",
              "      <td>3</td>\n",
              "    </tr>\n",
              "  </tbody>\n",
              "</table>\n",
              "</div>"
            ],
            "text/plain": [
              "   road_id  time  avg_speed  avg_speed std  no_taxi_car\n",
              "0        4     0  13.251063       2.861841            4\n",
              "1        7     0   8.909047       4.204858           21\n",
              "2        8     0   4.800125       5.773583           27\n",
              "3       19     0  10.867663       6.115532           10\n",
              "4       20     0  11.762047       1.951945            3"
            ]
          },
          "execution_count": 38,
          "metadata": {},
          "output_type": "execute_result"
        }
      ],
      "source": [
        "# history_speed_workday.head()\n",
        "history_speed_holiday.head()"
      ]
    },
    {
      "cell_type": "code",
      "execution_count": 53,
      "metadata": {},
      "outputs": [],
      "source": [
        "level1_history_speed_workday = history_speed_workday[history_speed_workday['road_id'].isin(level1_ftrs['road_id'])] \n",
        "level2_history_speed_workday = history_speed_workday[history_speed_workday['road_id'].isin(level2_ftrs['road_id'])] \n",
        "level3_history_speed_workday = history_speed_workday[history_speed_workday['road_id'].isin(level3_ftrs['road_id'])] "
      ]
    },
    {
      "cell_type": "code",
      "execution_count": 54,
      "metadata": {},
      "outputs": [],
      "source": [
        "level1_history_speed_holiday = history_speed_holiday[history_speed_holiday['road_id'].isin(level1_ftrs['road_id'])] \n",
        "level2_history_speed_holiday = history_speed_holiday[history_speed_holiday['road_id'].isin(level2_ftrs['road_id'])] \n",
        "level3_history_speed_holiday = history_speed_holiday[history_speed_holiday['road_id'].isin(level3_ftrs['road_id'])] "
      ]
    },
    {
      "cell_type": "code",
      "execution_count": 55,
      "metadata": {},
      "outputs": [
        {
          "data": {
            "text/html": [
              "<div>\n",
              "<style scoped>\n",
              "    .dataframe tbody tr th:only-of-type {\n",
              "        vertical-align: middle;\n",
              "    }\n",
              "\n",
              "    .dataframe tbody tr th {\n",
              "        vertical-align: top;\n",
              "    }\n",
              "\n",
              "    .dataframe thead th {\n",
              "        text-align: right;\n",
              "    }\n",
              "</style>\n",
              "<table border=\"1\" class=\"dataframe\">\n",
              "  <thead>\n",
              "    <tr style=\"text-align: right;\">\n",
              "      <th></th>\n",
              "      <th>road_id</th>\n",
              "      <th>time</th>\n",
              "      <th>avg_speed</th>\n",
              "      <th>avg_speed std</th>\n",
              "      <th>no_taxi_car</th>\n",
              "    </tr>\n",
              "  </thead>\n",
              "  <tbody>\n",
              "    <tr>\n",
              "      <th>55</th>\n",
              "      <td>209</td>\n",
              "      <td>0</td>\n",
              "      <td>12.851251</td>\n",
              "      <td>3.592383</td>\n",
              "      <td>13</td>\n",
              "    </tr>\n",
              "    <tr>\n",
              "      <th>56</th>\n",
              "      <td>210</td>\n",
              "      <td>0</td>\n",
              "      <td>19.338764</td>\n",
              "      <td>3.581764</td>\n",
              "      <td>10</td>\n",
              "    </tr>\n",
              "    <tr>\n",
              "      <th>57</th>\n",
              "      <td>211</td>\n",
              "      <td>0</td>\n",
              "      <td>16.743753</td>\n",
              "      <td>4.788815</td>\n",
              "      <td>18</td>\n",
              "    </tr>\n",
              "    <tr>\n",
              "      <th>61</th>\n",
              "      <td>218</td>\n",
              "      <td>0</td>\n",
              "      <td>6.150425</td>\n",
              "      <td>0.651551</td>\n",
              "      <td>4</td>\n",
              "    </tr>\n",
              "    <tr>\n",
              "      <th>70</th>\n",
              "      <td>239</td>\n",
              "      <td>0</td>\n",
              "      <td>11.276381</td>\n",
              "      <td>2.940108</td>\n",
              "      <td>5</td>\n",
              "    </tr>\n",
              "  </tbody>\n",
              "</table>\n",
              "</div>"
            ],
            "text/plain": [
              "    road_id  time  avg_speed  avg_speed std  no_taxi_car\n",
              "55      209     0  12.851251       3.592383           13\n",
              "56      210     0  19.338764       3.581764           10\n",
              "57      211     0  16.743753       4.788815           18\n",
              "61      218     0   6.150425       0.651551            4\n",
              "70      239     0  11.276381       2.940108            5"
            ]
          },
          "execution_count": 55,
          "metadata": {},
          "output_type": "execute_result"
        }
      ],
      "source": [
        "# level1_history_speed_workday.head()\n",
        "level1_history_speed_holiday.head()"
      ]
    },
    {
      "cell_type": "code",
      "execution_count": 23,
      "metadata": {},
      "outputs": [
        {
          "name": "stdout",
          "output_type": "stream",
          "text": [
            "Empty DataFrame\n",
            "Columns: [avg_speed, avg_speed std, no_taxi_car]\n",
            "Index: []\n"
          ]
        }
      ],
      "source": [
        "history_speed_data = level3_history_speed_workday\n",
        "# Check for missing values\n",
        "missing_values = history_speed_data.isnull()\n",
        "\n",
        "# Group by 'road_id' and 'time'\n",
        "missing_by_group = missing_values.groupby(['road_id', 'time']).sum()\n",
        "\n",
        "# Summarize missing values\n",
        "summary_missing = missing_by_group[missing_by_group > 0].dropna(how='all')\n",
        "\n",
        "# Display the summary of missing values by 'road_id' and 'time'\n",
        "print(summary_missing)"
      ]
    },
    {
      "cell_type": "code",
      "execution_count": 56,
      "metadata": {},
      "outputs": [],
      "source": [
        "# Merge the two DataFrames on 'road_id'\n",
        "level1_road_workday = pd.merge(level1_ftrs, level1_history_speed_workday, on='road_id')\n",
        "level2_road_workday = pd.merge(level2_ftrs, level2_history_speed_workday, on='road_id')\n",
        "level3_road_workday = pd.merge(level3_ftrs, level3_history_speed_workday, on='road_id')"
      ]
    },
    {
      "cell_type": "code",
      "execution_count": 57,
      "metadata": {},
      "outputs": [],
      "source": [
        "# Merge the two DataFrames on 'road_id'\n",
        "level1_road_holiday = pd.merge(level1_ftrs, level1_history_speed_holiday, on='road_id')\n",
        "level2_road_holiday = pd.merge(level2_ftrs, level2_history_speed_holiday, on='road_id')\n",
        "level3_road_holiday = pd.merge(level3_ftrs, level3_history_speed_holiday, on='road_id')"
      ]
    },
    {
      "cell_type": "code",
      "execution_count": 58,
      "metadata": {},
      "outputs": [
        {
          "data": {
            "text/html": [
              "<div>\n",
              "<style scoped>\n",
              "    .dataframe tbody tr th:only-of-type {\n",
              "        vertical-align: middle;\n",
              "    }\n",
              "\n",
              "    .dataframe tbody tr th {\n",
              "        vertical-align: top;\n",
              "    }\n",
              "\n",
              "    .dataframe thead th {\n",
              "        text-align: right;\n",
              "    }\n",
              "</style>\n",
              "<table border=\"1\" class=\"dataframe\">\n",
              "  <thead>\n",
              "    <tr style=\"text-align: right;\">\n",
              "      <th></th>\n",
              "      <th>road_id</th>\n",
              "      <th>length</th>\n",
              "      <th>lanes</th>\n",
              "      <th>max_speed</th>\n",
              "      <th>dir</th>\n",
              "      <th>level</th>\n",
              "      <th>tor</th>\n",
              "      <th>n_connnections</th>\n",
              "      <th>school</th>\n",
              "      <th>ofc</th>\n",
              "      <th>...</th>\n",
              "      <th>spot</th>\n",
              "      <th>hotel</th>\n",
              "      <th>trans</th>\n",
              "      <th>living_ser</th>\n",
              "      <th>sum_poi</th>\n",
              "      <th>weighted_POI</th>\n",
              "      <th>time</th>\n",
              "      <th>avg_speed</th>\n",
              "      <th>avg_speed std</th>\n",
              "      <th>no_taxi_car</th>\n",
              "    </tr>\n",
              "  </thead>\n",
              "  <tbody>\n",
              "    <tr>\n",
              "      <th>0</th>\n",
              "      <td>129</td>\n",
              "      <td>460.532158</td>\n",
              "      <td>1</td>\n",
              "      <td>8.333333</td>\n",
              "      <td>0</td>\n",
              "      <td>1</td>\n",
              "      <td>1.00537</td>\n",
              "      <td>4</td>\n",
              "      <td>0</td>\n",
              "      <td>0</td>\n",
              "      <td>...</td>\n",
              "      <td>0</td>\n",
              "      <td>0</td>\n",
              "      <td>0</td>\n",
              "      <td>0</td>\n",
              "      <td>0</td>\n",
              "      <td>0.0</td>\n",
              "      <td>16</td>\n",
              "      <td>9.313440</td>\n",
              "      <td>1.401034</td>\n",
              "      <td>3</td>\n",
              "    </tr>\n",
              "    <tr>\n",
              "      <th>1</th>\n",
              "      <td>129</td>\n",
              "      <td>460.532158</td>\n",
              "      <td>1</td>\n",
              "      <td>8.333333</td>\n",
              "      <td>0</td>\n",
              "      <td>1</td>\n",
              "      <td>1.00537</td>\n",
              "      <td>4</td>\n",
              "      <td>0</td>\n",
              "      <td>0</td>\n",
              "      <td>...</td>\n",
              "      <td>0</td>\n",
              "      <td>0</td>\n",
              "      <td>0</td>\n",
              "      <td>0</td>\n",
              "      <td>0</td>\n",
              "      <td>0.0</td>\n",
              "      <td>51</td>\n",
              "      <td>1.015883</td>\n",
              "      <td>0.109325</td>\n",
              "      <td>3</td>\n",
              "    </tr>\n",
              "    <tr>\n",
              "      <th>2</th>\n",
              "      <td>129</td>\n",
              "      <td>460.532158</td>\n",
              "      <td>1</td>\n",
              "      <td>8.333333</td>\n",
              "      <td>0</td>\n",
              "      <td>1</td>\n",
              "      <td>1.00537</td>\n",
              "      <td>4</td>\n",
              "      <td>0</td>\n",
              "      <td>0</td>\n",
              "      <td>...</td>\n",
              "      <td>0</td>\n",
              "      <td>0</td>\n",
              "      <td>0</td>\n",
              "      <td>0</td>\n",
              "      <td>0</td>\n",
              "      <td>0.0</td>\n",
              "      <td>57</td>\n",
              "      <td>1.354263</td>\n",
              "      <td>2.590976</td>\n",
              "      <td>5</td>\n",
              "    </tr>\n",
              "    <tr>\n",
              "      <th>3</th>\n",
              "      <td>129</td>\n",
              "      <td>460.532158</td>\n",
              "      <td>1</td>\n",
              "      <td>8.333333</td>\n",
              "      <td>0</td>\n",
              "      <td>1</td>\n",
              "      <td>1.00537</td>\n",
              "      <td>4</td>\n",
              "      <td>0</td>\n",
              "      <td>0</td>\n",
              "      <td>...</td>\n",
              "      <td>0</td>\n",
              "      <td>0</td>\n",
              "      <td>0</td>\n",
              "      <td>0</td>\n",
              "      <td>0</td>\n",
              "      <td>0.0</td>\n",
              "      <td>58</td>\n",
              "      <td>1.933138</td>\n",
              "      <td>3.207063</td>\n",
              "      <td>4</td>\n",
              "    </tr>\n",
              "    <tr>\n",
              "      <th>4</th>\n",
              "      <td>129</td>\n",
              "      <td>460.532158</td>\n",
              "      <td>1</td>\n",
              "      <td>8.333333</td>\n",
              "      <td>0</td>\n",
              "      <td>1</td>\n",
              "      <td>1.00537</td>\n",
              "      <td>4</td>\n",
              "      <td>0</td>\n",
              "      <td>0</td>\n",
              "      <td>...</td>\n",
              "      <td>0</td>\n",
              "      <td>0</td>\n",
              "      <td>0</td>\n",
              "      <td>0</td>\n",
              "      <td>0</td>\n",
              "      <td>0.0</td>\n",
              "      <td>97</td>\n",
              "      <td>4.690923</td>\n",
              "      <td>2.007195</td>\n",
              "      <td>3</td>\n",
              "    </tr>\n",
              "  </tbody>\n",
              "</table>\n",
              "<p>5 rows × 24 columns</p>\n",
              "</div>"
            ],
            "text/plain": [
              "   road_id      length  lanes  max_speed  dir  level      tor  n_connnections  \\\n",
              "0      129  460.532158      1   8.333333    0      1  1.00537               4   \n",
              "1      129  460.532158      1   8.333333    0      1  1.00537               4   \n",
              "2      129  460.532158      1   8.333333    0      1  1.00537               4   \n",
              "3      129  460.532158      1   8.333333    0      1  1.00537               4   \n",
              "4      129  460.532158      1   8.333333    0      1  1.00537               4   \n",
              "\n",
              "   school  ofc  ...  spot  hotel  trans  living_ser  sum_poi  weighted_POI  \\\n",
              "0       0    0  ...     0      0      0           0        0           0.0   \n",
              "1       0    0  ...     0      0      0           0        0           0.0   \n",
              "2       0    0  ...     0      0      0           0        0           0.0   \n",
              "3       0    0  ...     0      0      0           0        0           0.0   \n",
              "4       0    0  ...     0      0      0           0        0           0.0   \n",
              "\n",
              "   time  avg_speed  avg_speed std  no_taxi_car  \n",
              "0    16   9.313440       1.401034            3  \n",
              "1    51   1.015883       0.109325            3  \n",
              "2    57   1.354263       2.590976            5  \n",
              "3    58   1.933138       3.207063            4  \n",
              "4    97   4.690923       2.007195            3  \n",
              "\n",
              "[5 rows x 24 columns]"
            ]
          },
          "execution_count": 58,
          "metadata": {},
          "output_type": "execute_result"
        }
      ],
      "source": [
        "level1_road_holiday.head()"
      ]
    },
    {
      "cell_type": "code",
      "execution_count": 59,
      "metadata": {
        "id": "yK-yIgqCaROi",
        "outputId": "8851810e-0f63-4cc9-98ba-462ed7884980"
      },
      "outputs": [],
      "source": [
        "output_dir = 'D:/Thesis/files_output_dir/output_preprocessing/'\n",
        "level1_road_workday.to_csv(output_dir + 'level1_road_history_workday.csv',index=False)\n",
        "level2_road_workday.to_csv(output_dir + 'level2_road_history_workday.csv',index=False)\n",
        "level3_road_workday.to_csv(output_dir + 'level3_road_history_workday.csv',index=False)"
      ]
    },
    {
      "cell_type": "code",
      "execution_count": 60,
      "metadata": {},
      "outputs": [],
      "source": [
        "level1_road_holiday.to_csv(output_dir + 'level1_road_history_holiday.csv',index=False)\n",
        "level2_road_holiday.to_csv(output_dir + 'level2_road_history_holiday.csv',index=False)\n",
        "level3_road_holiday.to_csv(output_dir + 'level3_road_history_holiday.csv',index=False)"
      ]
    },
    {
      "cell_type": "markdown",
      "metadata": {},
      "source": [
        "## Data Samplling"
      ]
    },
    {
      "cell_type": "code",
      "execution_count": 34,
      "metadata": {
        "id": "p06fPzdIaROj",
        "outputId": "3fdf0f92-a2a2-46d1-b10c-2ef748a41d9d",
        "scrolled": true
      },
      "outputs": [
        {
          "name": "stderr",
          "output_type": "stream",
          "text": [
            "C:\\Users\\k\\AppData\\Local\\Temp\\ipykernel_17136\\1657797864.py:9: DeprecationWarning: DataFrameGroupBy.apply operated on the grouping columns. This behavior is deprecated, and in a future version of pandas the grouping columns will be excluded from the operation. Either pass `include_groups=False` to exclude the groupings or explicitly select the grouping columns after groupby to silence this warning.\n",
            "  stratified_sample = data_history.groupby(stratify_column, group_keys=False).apply(lambda x: x.sample(frac=frac))\n"
          ]
        }
      ],
      "source": [
        "data_history = level1_road_workday\n",
        "# Define the column to stratify by\n",
        "stratify_column = 'time'\n",
        "\n",
        "# Define the fraction of each stratum to sample\n",
        "frac = 0.01  # 1% of each group\n",
        "\n",
        "# Perform stratified sampling\n",
        "stratified_sample = data_history.groupby(stratify_column, group_keys=False).apply(lambda x: x.sample(frac=frac))\n",
        "\n",
        "# Display the stratified sample\n",
        "stratified_sample.head()\n",
        "\n",
        "stratified_sample.to_csv(output_dir + 'stratified_level1_road_history.csv',index=False)"
      ]
    },
    {
      "cell_type": "code",
      "execution_count": null,
      "metadata": {
        "collapsed": true,
        "id": "vmAMjF2aaROj",
        "outputId": "1cd18fee-98a9-47a7-9876-3555f55a705d"
      },
      "outputs": [],
      "source": []
    },
    {
      "cell_type": "code",
      "execution_count": null,
      "metadata": {
        "id": "-JsC-OXEaROk"
      },
      "outputs": [],
      "source": [
        "# convert DF to np.array\n",
        "net_rows = road_net.values\n",
        "#create a directed graph\n",
        "G = nx.DiGraph()\n",
        "# Add edges and edge attributes\n",
        "for idx in range(len(net_rows)):\n",
        "    G.add_edge(net_rows[idx][1], net_rows[idx][2], edge_id = net_rows[idx][0])\n",
        "    if road_ftrs.loc[idx]['dir'].values[0] > 0: #for bi-dirrection connection\n",
        "      G.add_edge(net_rows[idx][2], net_rows[idx][1], edge_id = net_rows[idx][0])\n"
      ]
    },
    {
      "cell_type": "code",
      "execution_count": null,
      "metadata": {},
      "outputs": [],
      "source": [
        "undir_G = G.to_undirected()"
      ]
    },
    {
      "cell_type": "code",
      "execution_count": null,
      "metadata": {
        "id": "lOk1was8aROk"
      },
      "outputs": [],
      "source": [
        "# find knbrs(G, start=4, k=3))\n",
        "def darw_net(node_id, k=1):\n",
        "    nb = nx.single_source_shortest_path_length(G.to_undirected(), node_id, cutoff=k)\n",
        "    sub_G =G.subgraph(list(nb.keys()))\n",
        "\n",
        "    # edge_level\n",
        "    edge_level=dict()\n",
        "    for x,y,dic in sub_G.edges(data=True):\n",
        "    #     print(x,y,dic['edge_id'])\n",
        "        edge_level[(x,y)]= dic['edge_id']\n",
        "\n",
        "\n",
        "    plt.figure(figsize=(6, 5))\n",
        "    # graphviz_layout\n",
        "    nx.draw(sub_G, with_labels=True, node_size=1500, node_color=\"skyblue\",pos=nx.drawing.nx_agraph.graphviz_layout(sub_G))# pos= nx.spring_layout(sub_G) #pos=nx.drawing.nx_agraph.graphviz_layout(G)\n",
        "    # edge_labels = nx.get_edge_attributes(sub_G,'edge_id')\n",
        "    nx.draw_networkx_edge_labels(G, pos=nx.drawing.nx_agraph.graphviz_layout(sub_G), edge_labels = edge_level)\n",
        "    plt.title(\"Road-Network, src:\"+str(node_id)+', cutoff:'+ str(k))\n",
        "    plt.show()"
      ]
    },
    {
      "cell_type": "code",
      "execution_count": null,
      "metadata": {
        "id": "VQtGMw-gaROk"
      },
      "outputs": [],
      "source": [
        "def t_series(t_id,e_id ):\n",
        "    '''list 2-step speed data in time series'''\n",
        "    v = []\n",
        "    if 0<= t_id -2:\n",
        "        v.append(data.loc[t_id -2][e_id])\n",
        "    if 0<= t_id -1:\n",
        "        v.append(data.loc[t_id -1][e_id])\n",
        "        \n",
        "    if t_id +1 <24:\n",
        "        v.append(data.loc[t_id +1][e_id])\n",
        "    if t_id +2 <24:\n",
        "        v.append(data.loc[t_id +2][e_id])\n",
        "    return v\n",
        "\n",
        "\n",
        "# def get_nb(edge_id,time_id, k=2): #k cutoff value\n",
        "#     src, dst = net_rows[edge_id][1], net_rows[edge_id][2]\n",
        "# #     print(edge_id,src, dst)\n",
        "# #     H = G.subgraph([src, dst])\n",
        "# #     print(list(H.edges))\n",
        "#     nbr_spd =[]\n",
        "    \n",
        "#     pre_nodes = G.predecessors(src)\n",
        "#     su_nodes = G.successors(dst)\n",
        "\n",
        "# #     print('->:pre:',list(pre_nodes),'successor:',list(su_nodes))\n",
        "    \n",
        "#     nb = nx.single_source_shortest_path_length(G.to_undirected(), src, cutoff=k) # update use edge\n",
        "#     sub_G =G.to_undirected().subgraph(list(nb.keys()))\n",
        "#     for e in sub_G.edges(data=True):\n",
        "#         e_id =e[2]['edge_id']\n",
        "# #         print(e, int(road_ftr.loc[e_id]['lev']))\n",
        "# #         print(e_id,'v:',data.loc[time_id][e_id])\n",
        "#         nbr_spd.append(data.loc[time_id][e_id])\n",
        "#         if e_id == edge_id:\n",
        "# #             print('T_val:',t_series(time_id,e_id ))\n",
        "#             t_spd = list(t_series(time_id,e_id))\n",
        "# #     darw_net(src, k) #call draw function\n",
        "#     return (nbr_spd,t_spd)"
      ]
    },
    {
      "cell_type": "code",
      "execution_count": null,
      "metadata": {
        "id": "pCvvbcUlaROl"
      },
      "outputs": [],
      "source": [
        "def get_nbr_speed(edge_id,time_id, k=2): #k cutoff value\n",
        "    src, dst = net_rows[edge_id][1], net_rows[edge_id][2]\n",
        "#     nbr_spd =[]\n",
        "    nbrs = set([src])\n",
        "    temp = set()\n",
        "    ed_set = set()#[edge_id]\n",
        "    darw_net(src, k) #call draw function\n",
        "\n",
        "    for lv in range(k):\n",
        "        for n in nbrs:\n",
        "            for nbr in undir_G[n]:\n",
        "                temp.add(nbr)\n",
        "                ed_id = undir_G[n][nbr]['edge_id']\n",
        "                \n",
        "                if ed_id not in ed_set:\n",
        "                    ed_set.add(ed_id)\n",
        "                    \n",
        "#                     print(ed_id, time_id, data.loc[time_id][e_id]);\n",
        "#                     nbr_spd.append(data.loc[time_id][e_id]);\n",
        "                    \n",
        "        nbrs = set(temp)\n",
        "\n",
        "#     print(ed_set)\n",
        "    ed_set.remove(edge_id)\n",
        "    return ed_set\n"
      ]
    },
    {
      "cell_type": "code",
      "execution_count": null,
      "metadata": {
        "id": "SA6foX4uaROl",
        "outputId": "8c93e587-e0ea-470a-8847-cb22d5e91c2a"
      },
      "outputs": [],
      "source": [
        "# missing value cal\n",
        "# new_data = pd.DataFrame(data)\n",
        "\n",
        "for time_id in range(1):\n",
        "    nan_pos = data.loc[time_id].isnull()\n",
        "    print(time_id,'Null value count:',data.loc[time_id].isnull().sum())\n",
        "    \n",
        "    for e_id in range(20): # number of road seg./count_col\n",
        "#         print(e_id ,nan_pos[e_id])\n",
        "        if nan_pos[e_id] == True:\n",
        "            nbr_spd =[]\n",
        "            nbr_edges = get_nbr_speed(e_id,time_id,k=2)\n",
        "            for nbr_ed in nbr_edges:\n",
        "                nbr_spd.append(data.loc[time_id][nbr_ed])\n",
        "            time_spd = t_series(time_id,e_id)\n",
        "#             print(e_id, nbr_edges,nbr_spd, time_spd)\n",
        "            print( 'T:',time_id,'E_id:',e_id,nbr_spd,time_spd,'-->',np.nanmean(nbr_spd+time_spd) )\n",
        "            new_data[time_id][e_id] = np.nanmean(nbr_spd+time_spd)\n",
        "\n",
        "#save data \n",
        "# np.savetxt('hist_speed_imputed_nbr.txt', new_data, delimiter=' ')"
      ]
    },
    {
      "cell_type": "code",
      "execution_count": null,
      "metadata": {
        "id": "qqxBZLCTaROm",
        "outputId": "5a6b5960-ef48-499a-c540-ea92be4eeaa3"
      },
      "outputs": [],
      "source": [
        "print(\"***Count NaN in each row of a DataFrame***\")    \n",
        "for i in range(len(data.index)) :\n",
        "    print(\"Nan in row \", i , \" : \" ,  data.iloc[i].isnull().sum())"
      ]
    },
    {
      "cell_type": "code",
      "execution_count": null,
      "metadata": {
        "id": "Jv74cMPuaROm",
        "outputId": "6723fd2d-c5b8-4d52-da6c-a315637509dd"
      },
      "outputs": [],
      "source": [
        "for time_id in range(24):\n",
        "    nan_pos = data.loc[time_id].isnull()\n",
        "    print(time_id,'Null value count:',data.loc[time_id].isnull().sum())\n",
        "    \n",
        "    for e_id in range(count_col): # number of road seg./count_col\n",
        "#         print(e_id ,nan_pos[e_id])\n",
        "        if nan_pos[e_id] == True:\n",
        "            print(time_id, e_id ,data.loc[time_id][e_id], data[e_id].values)\n",
        "            # fill value as column mean value\n",
        "#             data.loc[time_id][e_id] = np.nanmean(data[e_id].values)"
      ]
    },
    {
      "cell_type": "code",
      "execution_count": null,
      "metadata": {
        "id": "ymZIbZGUaROm"
      },
      "outputs": [],
      "source": [
        "# print(nx.number_weakly_connected_components(G))\n",
        "# for c in nx.weakly_connected_components(G):\n",
        "#     print(c)\n",
        "# # >>> H = G.subgraph([0, 1, 2])\n",
        "# # >>> list(H.edges)"
      ]
    },
    {
      "cell_type": "code",
      "execution_count": null,
      "metadata": {
        "id": "RnTAZvKmaROn"
      },
      "outputs": [],
      "source": [
        "# f = open('hist_speed_imputed_nbr.txt', 'w')\n",
        "# f.write( 'T:',time_id,'E_id:',e_id,spd,'-->',np.nanmean(spd[0]+spd[1]),'\\n')\n",
        "# f.close()\n",
        "# #Nan in row\n",
        "# for idx in range(len(new_data.index)) :\n",
        "#     select_indices = new_data.iloc[idx].isnull()\n",
        "#     col_nan = new_data.iloc[select_indices].index.tolist()\n",
        "#     for col in col_nan:\n",
        "#         new_data.loc[idx][col] = np.nanmean(new_data[col]) # mean of col values"
      ]
    }
  ],
  "metadata": {
    "colab": {
      "name": "Fill_missing_data.ipynb",
      "provenance": []
    },
    "kernelspec": {
      "display_name": "Python 3",
      "language": "python",
      "name": "python3"
    },
    "language_info": {
      "codemirror_mode": {
        "name": "ipython",
        "version": 3
      },
      "file_extension": ".py",
      "mimetype": "text/x-python",
      "name": "python",
      "nbconvert_exporter": "python",
      "pygments_lexer": "ipython3",
      "version": "3.12.4"
    }
  },
  "nbformat": 4,
  "nbformat_minor": 0
}
