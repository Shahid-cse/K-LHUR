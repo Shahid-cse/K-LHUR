{
 "cells": [
  {
   "cell_type": "code",
   "execution_count": 1,
   "metadata": {},
   "outputs": [],
   "source": [
    "import pandas as pd\n",
    "import pickle"
   ]
  },
  {
   "cell_type": "code",
   "execution_count": 2,
   "metadata": {},
   "outputs": [],
   "source": [
    "output_dir = 'D:/Thesis/files_output_dir/output_preprocessing/'\n",
    "# Load from a file\n",
    "with open(output_dir+ 'vol_distribution_data.pkl', 'rb') as file:\n",
    "    data = pickle.load(file)\n",
    "\n",
    "vol_dict_level1 = data['vol_dict1']\n",
    "vol_dict_level2 = data['vol_dict2']\n",
    "vol_dict_level3 = data['vol_dict3']\n",
    "mean_level1 = data['mean1']\n",
    "mean_level2 = data['mean2']\n",
    "mean_level3 = data['mean3']"
   ]
  },
  {
   "cell_type": "code",
   "execution_count": 7,
   "metadata": {},
   "outputs": [
    {
     "data": {
      "text/plain": [
       "{1: [11.2, 16.0],\n",
       " 2: [16.0, 23.15],\n",
       " 3: [23.15, 27.4],\n",
       " 4: [27.4, 30.25],\n",
       " 5: [30.25, 36.75]}"
      ]
     },
     "execution_count": 7,
     "metadata": {},
     "output_type": "execute_result"
    }
   ],
   "source": [
    "vol_dict_level1"
   ]
  },
  {
   "cell_type": "code",
   "execution_count": null,
   "metadata": {},
   "outputs": [],
   "source": [
    "output_dir = 'D:/Thesis/files_output_dir/output_preprocessing/'\n",
    "\n",
    "# Read the CSV files into DataFrames\n",
    "ground_truth_level1 = pd.read_csv(output_dir + 'ground_truth_level1.csv')\n",
    "ground_truth_level2 = pd.read_csv(output_dir + 'ground_truth_level2.csv')\n",
    "ground_truth_level3 = pd.read_csv(output_dir + 'ground_truth_level3.csv')"
   ]
  },
  {
   "cell_type": "code",
   "execution_count": null,
   "metadata": {},
   "outputs": [],
   "source": [
    "# Define the function with vol_dict as an additional parameter\n",
    "def map_class_to_volume(cls, vol_dict):\n",
    "    low, high = vol_dict[cls]\n",
    "    return (low + high) / 2  # Use the midpoint of the range as the most probable value\n"
   ]
  },
  {
   "cell_type": "code",
   "execution_count": null,
   "metadata": {},
   "outputs": [],
   "source": [
    "# Apply the function using .map() and a lambda to pass vol_dict\n",
    "ground_truth_level1['volume_infer'] = ground_truth_level1['volume_cls'].map(lambda cls: map_class_to_volume(cls, vol_dict_level1))\n",
    "ground_truth_level2['volume_infer'] = ground_truth_level2['volume_cls'].map(lambda cls: map_class_to_volume(cls, vol_dict_level2))\n",
    "ground_truth_level3['volume_infer'] = ground_truth_level3['volume_cls'].map(lambda cls: map_class_to_volume(cls, vol_dict_level3))"
   ]
  }
 ],
 "metadata": {
  "kernelspec": {
   "display_name": "thesis_venv",
   "language": "python",
   "name": "python3"
  },
  "language_info": {
   "codemirror_mode": {
    "name": "ipython",
    "version": 3
   },
   "file_extension": ".py",
   "mimetype": "text/x-python",
   "name": "python",
   "nbconvert_exporter": "python",
   "pygments_lexer": "ipython3",
   "version": "3.12.4"
  }
 },
 "nbformat": 4,
 "nbformat_minor": 2
}
