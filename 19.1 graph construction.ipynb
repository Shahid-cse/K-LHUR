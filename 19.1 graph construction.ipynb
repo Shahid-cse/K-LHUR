{
 "cells": [
  {
   "cell_type": "code",
   "execution_count": 1,
   "metadata": {},
   "outputs": [],
   "source": [
    "import pandas as pd\n",
    "import numpy as np\n",
    "import networkx as nx\n",
    "import matplotlib.pyplot as plt"
   ]
  },
  {
   "cell_type": "code",
   "execution_count": 2,
   "metadata": {},
   "outputs": [],
   "source": [
    "from networkx.algorithms.community import greedy_modularity_communities\n",
    "from pyvis.network import Network"
   ]
  },
  {
   "cell_type": "code",
   "execution_count": null,
   "metadata": {},
   "outputs": [],
   "source": [
    "# %pip install pygraphviz\n",
    "# %pip install pyvis"
   ]
  },
  {
   "cell_type": "code",
   "execution_count": 8,
   "metadata": {},
   "outputs": [],
   "source": [
    "output_dir = 'D:/Thesis/files_output_dir/output_utilization/'"
   ]
  },
  {
   "cell_type": "code",
   "execution_count": 5,
   "metadata": {},
   "outputs": [
    {
     "name": "stderr",
     "output_type": "stream",
     "text": [
      "<>:2: SyntaxWarning: invalid escape sequence '\\s'\n",
      "<>:4: SyntaxWarning: invalid escape sequence '\\s'\n",
      "<>:2: SyntaxWarning: invalid escape sequence '\\s'\n",
      "<>:4: SyntaxWarning: invalid escape sequence '\\s'\n",
      "C:\\Users\\mamun_pc\\AppData\\Local\\Temp\\ipykernel_28296\\1595152786.py:2: SyntaxWarning: invalid escape sequence '\\s'\n",
      "  network_df = pd.read_csv('D:/Thesis/dataset/Road/Roadnetwork.txt',delimiter='\\s+', header=None, index_col=False)\n",
      "C:\\Users\\mamun_pc\\AppData\\Local\\Temp\\ipykernel_28296\\1595152786.py:4: SyntaxWarning: invalid escape sequence '\\s'\n",
      "  feature_df = pd.read_csv('D:/Thesis/dataset/Road/Roadfeature.txt',delimiter='\\s+', header=None, index_col=False)\n"
     ]
    }
   ],
   "source": [
    "# Load data from files\n",
    "network_df = pd.read_csv('D:/Thesis/dataset/Road/Roadnetwork.txt',delimiter='\\s+', header=None, index_col=False)\n",
    "# road feature\n",
    "feature_df = pd.read_csv('D:/Thesis/dataset/Road/Roadfeature.txt',delimiter='\\s+', header=None, index_col=False) "
   ]
  },
  {
   "cell_type": "code",
   "execution_count": 6,
   "metadata": {},
   "outputs": [],
   "source": [
    "network_df.columns =['road id', 'start_node', 'end_node']\n",
    "# network_df.head()\n",
    "feature_df.columns =['road id','lng','lanes','max_spd','dir','lev','tor','n_cn','school', 'ofc', 'bnk', 'mall', 'rest', 'gas_st', 'spot', 'hotel',\n",
    "       'trans', 'living_ser', 'sum_poi']\n",
    "# feature_df.head()"
   ]
  },
  {
   "cell_type": "code",
   "execution_count": 3,
   "metadata": {},
   "outputs": [],
   "source": [
    "def create_road_network(network_df):\n",
    "    # Create a new directed graph\n",
    "    G = nx.DiGraph()\n",
    "    \n",
    "    # Add edges from the DataFrame\n",
    "    # for _, row in network_df.iterrows():\n",
    "    #     G.add_edge(row['start_node'], \n",
    "    #               row['end_node'], \n",
    "    #               road_id=row['road id'])\n",
    "        \n",
    "    ## Graph for level-1 and 2\n",
    "    for _, row in feature_df.iterrows():\n",
    "        road_id = row['road id']\n",
    "        length = row['lng']\n",
    "        max_speed = row['max_spd']\n",
    "        lanes = row['lanes']\n",
    "        poi_sum =  row['sum_poi']\n",
    "        level = row['lev']\n",
    "        bi_dirrection = row['dir']\n",
    "        connections = row['n_cn']\n",
    "\n",
    "        if level<=2: \n",
    "            # Find the corresponding road\n",
    "            feature = network_df[network_df['road id'] == road_id]\n",
    "            road_id = feature['road id'].values[0]\n",
    "            start_node = feature['start_node'].values[0]\n",
    "            end_node = feature['end_node'].values[0]\n",
    "\n",
    "            G.add_edge(start_node, end_node, road_id=road_id, weight=np.nan)\n",
    "    \n",
    "    connected_components_wk_cg = sorted(nx.weakly_connected_components(G), key=len, reverse=True)\n",
    "    print(len(connected_components_wk_cg[0]))\n",
    "    # select the larger subgraph\n",
    "    sub_graph = G.subgraph(connected_components_wk_cg[0]).copy()\n",
    "    return sub_graph\n",
    "\n",
    "def analyze_network_properties(G):\n",
    "  \n",
    "    print(\"\\nDetailed Network Analysis:\")\n",
    "    \n",
    "    # Analyze connectivity\n",
    "    strongly_connected = list(nx.strongly_connected_components(G))\n",
    "    print(f\"\\nStrongly connected components: {len(strongly_connected)}\")\n",
    "    if len(strongly_connected) > 0:\n",
    "        print(f\"Largest strongly connected component size: {len(strongly_connected[0])}\")\n",
    "    \n",
    "    weakly_connected = list(nx.weakly_connected_components(G))\n",
    "    print(f\"Weakly connected components: {len(weakly_connected)}\")\n",
    "    if len(weakly_connected) > 0:\n",
    "        print(f\"Largest weakly connected component size: {len(weakly_connected[0])}\")\n",
    "    \n",
    "    # Analyze node degrees\n",
    "    in_degrees = dict(G.in_degree())\n",
    "    out_degrees = dict(G.out_degree())\n",
    "    \n",
    "    print(\"\\nDegree Statistics:\")\n",
    "    print(f\"Maximum in-degree: {max(in_degrees.values())}\")\n",
    "    print(f\"Maximum out-degree: {max(out_degrees.values())}\")\n",
    "    \n",
    "    # Find important nodes\n",
    "    print(\"\\nImportant Nodes:\")\n",
    "    \n",
    "    # Nodes with highest in-degree (destination hubs)\n",
    "    high_in_degree = sorted(in_degrees.items(), key=lambda x: x[1], reverse=True)[:5]\n",
    "    print(\"\\nTop 5 destination nodes (highest in-degree):\")\n",
    "    for node, degree in high_in_degree:\n",
    "        print(f\"Node {node}: {degree} incoming roads\")\n",
    "    \n",
    "    # Nodes with highest out-degree (source hubs)\n",
    "    high_out_degree = sorted(out_degrees.items(), key=lambda x: x[1], reverse=True)[:5]\n",
    "    print(\"\\nTop 5 source nodes (highest out-degree):\")\n",
    "    for node, degree in high_out_degree:\n",
    "        print(f\"Node {node}: {degree} outgoing roads\")\n",
    "    \n",
    "    # Calculate betweenness centrality for the largest weakly connected component\n",
    "    if len(weakly_connected) > 0:\n",
    "        largest_component = weakly_connected[0]\n",
    "        subgraph = G.subgraph(largest_component)\n",
    "        betweenness = nx.betweenness_centrality(subgraph)\n",
    "        \n",
    "        print(\"\\nTop 5 nodes by betweenness centrality (most important for traffic flow):\")\n",
    "        top_betweenness = sorted(betweenness.items(), key=lambda x: x[1], reverse=True)[:5]\n",
    "        for node, centrality in top_betweenness:\n",
    "            print(f\"Node {node}: centrality = {centrality:.3f}\")\n",
    "\n",
    "#"
   ]
  },
  {
   "cell_type": "code",
   "execution_count": null,
   "metadata": {},
   "outputs": [],
   "source": [
    "def show_graph_stat(G, output_dir=None):\n",
    "    # Print basic network statistics\n",
    "    print(\"\\nNetwork Statistics:\")\n",
    "    print(f\"Number of nodes: {G.number_of_nodes()}\")\n",
    "    print(f\"Number of edges: {G.number_of_edges()}\")\n",
    "    \n",
    "    # Calculate and print some network metrics\n",
    "    print(\"\\nNetwork Metrics:\")\n",
    "    print(f\"Average in-degree: {sum(dict(G.in_degree()).values()) / G.number_of_nodes():.2f}\")\n",
    "    print(f\"Average out-degree: {sum(dict(G.out_degree()).values()) / G.number_of_nodes():.2f}\")\n",
    "    \n",
    "    try:\n",
    "        print(f\"Average shortest path length: {nx.average_shortest_path_length(G):.2f}\")\n",
    "    except:\n",
    "        print(\"Graph is not strongly connected - cannot compute average shortest path length\")\n",
    "\n",
    "    # Find communities\n",
    "    communities = list(greedy_modularity_communities(G))\n",
    "    color_map = []\n",
    "    for node in G:\n",
    "        for i, community in enumerate(communities):\n",
    "            if node in community:\n",
    "                color_map.append(i)\n",
    "\n",
    "    # Plot graph with community-based coloring\n",
    "    pos = nx.spring_layout(G, k=0.1)\n",
    "    nx.draw(G, pos, node_size=10, node_color=color_map, edge_color=\"gray\", with_labels=False, cmap=plt.cm.tab20)\n",
    "    plt.show()\n",
    "    \n",
    "    ###\n",
    "    # Create Pyvis network\n",
    "    net = Network(notebook=True)\n",
    "    net.from_nx(G)\n",
    "    net.show(\"graph.html\")\n",
    "\n",
    "\n",
    "    # pos = nx.nx_agraph.graphviz_layout(G, prog='neato')\n",
    "    # nx.draw(G, pos, node_size=1, edge_color=\"gray\", with_labels=False)\n",
    "    # plt.show()\n",
    "    \n",
    "    # # Visualize the network\n",
    "    # plt.figure(figsize=(15, 10))\n",
    "    # # Use spring layout for node positioning\n",
    "    # pos = nx.spring_layout(G, k=1, iterations=50)\n",
    "    \n",
    "    # # Draw nodes\n",
    "    # nx.draw_networkx_nodes(G, pos, \n",
    "    #                       node_color='lightblue',\n",
    "    #                       node_size=500,\n",
    "    #                       alpha=0.6)\n",
    "    \n",
    "    # # Draw edges with arrows\n",
    "    # nx.draw_networkx_edges(G, pos,\n",
    "    #                       edge_color='gray',\n",
    "    #                       arrows=True,\n",
    "    #                       arrowsize=20)\n",
    "    \n",
    "    # # Add node labels\n",
    "    # nx.draw_networkx_labels(G, pos)\n",
    "    \n",
    "    # # Add edge labels (road IDs)\n",
    "    # edge_labels = nx.get_edge_attributes(G, 'road_id')\n",
    "    # nx.draw_networkx_edge_labels(G, pos,\n",
    "    #                             edge_labels=edge_labels,\n",
    "    #                             font_size=8)\n",
    "    \n",
    "    # plt.title(\"Road Network Visualization\")\n",
    "    # plt.axis('off')\n",
    "    \n",
    "    # # Save figure if output directory is provided\n",
    "    # if output_dir:\n",
    "    #     try:\n",
    "    #         plt.savefig(f'{output_dir}/road_network.png', \n",
    "    #                    dpi=300, bbox_inches='tight', format='png')\n",
    "    #         print(f\"\\nPlot saved to {output_dir}/road_network.png\")\n",
    "    #     except Exception as e:\n",
    "    #         print(f\"Error saving figure: {str(e)}\")\n",
    "    \n",
    "    # plt.show()"
   ]
  },
  {
   "cell_type": "code",
   "execution_count": 7,
   "metadata": {},
   "outputs": [
    {
     "name": "stdout",
     "output_type": "stream",
     "text": [
      "21143\n"
     ]
    }
   ],
   "source": [
    "G = create_road_network(network_df)"
   ]
  },
  {
   "cell_type": "code",
   "execution_count": 9,
   "metadata": {},
   "outputs": [],
   "source": [
    "nx.write_graphml(G, output_dir+\"graph_1.graphml\")"
   ]
  },
  {
   "cell_type": "code",
   "execution_count": null,
   "metadata": {},
   "outputs": [],
   "source": [
    "show_graph_stat(G)"
   ]
  },
  {
   "cell_type": "code",
   "execution_count": 26,
   "metadata": {},
   "outputs": [
    {
     "name": "stdout",
     "output_type": "stream",
     "text": [
      "\n",
      "Detailed Network Analysis:\n",
      "\n",
      "Strongly connected components: 7161\n",
      "Largest strongly connected component size: 1\n",
      "Weakly connected components: 1\n",
      "Largest weakly connected component size: 21143\n",
      "\n",
      "Degree Statistics:\n",
      "Maximum in-degree: 4\n",
      "Maximum out-degree: 4\n",
      "\n",
      "Important Nodes:\n",
      "\n",
      "Top 5 destination nodes (highest in-degree):\n",
      "Node 36649: 4 incoming roads\n",
      "Node 2579: 3 incoming roads\n",
      "Node 3622: 3 incoming roads\n",
      "Node 3987: 3 incoming roads\n",
      "Node 3993: 3 incoming roads\n",
      "\n",
      "Top 5 source nodes (highest out-degree):\n",
      "Node 20687: 4 outgoing roads\n",
      "Node 2517: 3 outgoing roads\n",
      "Node 2518: 3 outgoing roads\n",
      "Node 2600: 3 outgoing roads\n",
      "Node 2890: 3 outgoing roads\n",
      "\n",
      "Top 5 nodes by betweenness centrality (most important for traffic flow):\n",
      "Node 68489: centrality = 0.044\n",
      "Node 68488: centrality = 0.044\n",
      "Node 5018: centrality = 0.042\n",
      "Node 20620: centrality = 0.041\n",
      "Node 20621: centrality = 0.041\n"
     ]
    }
   ],
   "source": [
    "analyze_network_properties(G)"
   ]
  },
  {
   "cell_type": "code",
   "execution_count": null,
   "metadata": {},
   "outputs": [],
   "source": []
  },
  {
   "cell_type": "code",
   "execution_count": null,
   "metadata": {},
   "outputs": [],
   "source": []
  }
 ],
 "metadata": {
  "kernelspec": {
   "display_name": "thesis_venv",
   "language": "python",
   "name": "python3"
  },
  "language_info": {
   "codemirror_mode": {
    "name": "ipython",
    "version": 3
   },
   "file_extension": ".py",
   "mimetype": "text/x-python",
   "name": "python",
   "nbconvert_exporter": "python",
   "pygments_lexer": "ipython3",
   "version": "3.12.4"
  }
 },
 "nbformat": 4,
 "nbformat_minor": 2
}
