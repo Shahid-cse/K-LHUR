{
 "cells": [
  {
   "cell_type": "code",
   "execution_count": 2,
   "metadata": {},
   "outputs": [],
   "source": [
    "import pandas as pd"
   ]
  },
  {
   "cell_type": "code",
   "execution_count": 3,
   "metadata": {},
   "outputs": [],
   "source": [
    "file_path ='D:/Thesis/files_output_dir/output_files/'\n",
    "output_dir = 'D:/Thesis/files_output_dir/output_utilization/'"
   ]
  },
  {
   "cell_type": "code",
   "execution_count": 4,
   "metadata": {},
   "outputs": [],
   "source": [
    "level1_road_history_workday_utility = pd.read_csv(output_dir + 'level1_road_history_workday_utilization.csv')"
   ]
  },
  {
   "cell_type": "code",
   "execution_count": 5,
   "metadata": {},
   "outputs": [
    {
     "data": {
      "text/plain": [
       "Index(['road_id', 'length', 'lanes', 'max_speed', 'dir', 'level', 'tor',\n",
       "       'n_connnections', 'school', 'ofc', 'bnk', 'mall', 'rest', 'gas_st',\n",
       "       'spot', 'hotel', 'trans', 'living_ser', 'sum_poi', 'weighted_POI',\n",
       "       'time', 'avg_speed', 'avg_speed std', 'no_taxi_car', 'volume_claas',\n",
       "       'theta', 'volume', 'qc', 'vc', 'Uq', 'Uv', 'Uq_norm', 'Uv_norm',\n",
       "       'theta_norm', 'utilization', 'inv_utilization'],\n",
       "      dtype='object')"
      ]
     },
     "execution_count": 5,
     "metadata": {},
     "output_type": "execute_result"
    }
   ],
   "source": [
    "level1_road_history_workday_utility.columns"
   ]
  },
  {
   "cell_type": "code",
   "execution_count": 7,
   "metadata": {},
   "outputs": [
    {
     "name": "stderr",
     "output_type": "stream",
     "text": [
      "C:\\Users\\mamun_pc\\AppData\\Local\\Temp\\ipykernel_32300\\210050843.py:11: DeprecationWarning: DataFrameGroupBy.apply operated on the grouping columns. This behavior is deprecated, and in a future version of pandas the grouping columns will be excluded from the operation. Either pass `include_groups=False` to exclude the groupings or explicitly select the grouping columns after groupby to silence this warning.\n",
      "  stratified_sample = data_history.groupby(stratify_column, group_keys=False).apply(lambda x: x.sample(frac=frac))\n"
     ]
    }
   ],
   "source": [
    "data_history = level1_road_history_workday_utility[['road_id', 'time','Uq', 'Uv', 'Uq_norm', 'Uv_norm', 'theta_norm', 'utilization']]\n",
    "# data_history.head()\n",
    "\n",
    "# Define the column to stratify by\n",
    "stratify_column = 'time'\n",
    "\n",
    "# Define the fraction of each stratum to sample\n",
    "frac = 0.05  # 1% of each group\n",
    "\n",
    "# Perform stratified sampling\n",
    "stratified_sample = data_history.groupby(stratify_column, group_keys=False).apply(lambda x: x.sample(frac=frac))\n",
    "\n",
    "# Display the stratified sample\n",
    "stratified_sample.head()\n",
    "\n",
    "stratified_sample.to_csv(output_dir + 'stratified_level1_road_history_workday_utility.csv',index=False)"
   ]
  }
 ],
 "metadata": {
  "kernelspec": {
   "display_name": "thesis_venv",
   "language": "python",
   "name": "python3"
  },
  "language_info": {
   "codemirror_mode": {
    "name": "ipython",
    "version": 3
   },
   "file_extension": ".py",
   "mimetype": "text/x-python",
   "name": "python",
   "nbconvert_exporter": "python",
   "pygments_lexer": "ipython3",
   "version": "3.12.4"
  }
 },
 "nbformat": 4,
 "nbformat_minor": 2
}
