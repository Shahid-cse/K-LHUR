{
 "cells": [
  {
   "cell_type": "code",
   "execution_count": null,
   "metadata": {
    "id": "5ZEGVRNR3XTn"
   },
   "outputs": [],
   "source": [
    "from matplotlib import pyplot as mp\n",
    "import numpy as np"
   ]
  },
  {
   "cell_type": "code",
   "execution_count": null,
   "metadata": {
    "id": "clxw6FnUaYYj"
   },
   "outputs": [],
   "source": [
    "def gaussian(x, mu, sig):\n",
    "    return 1./(np.sqrt(2.*np.pi)*sig)*np.exp(-np.power((x - mu)/sig, 2.)/2);"
   ]
  },
  {
   "cell_type": "code",
   "execution_count": null,
   "metadata": {
    "id": "RxAIgsarOlxV"
   },
   "outputs": [],
   "source": [
    "# point probability\n",
    "def max_prob(x_values, mu, sig, n_pnts):\n",
    "    p2 = [0] * n_pnts;\n",
    "    for i,x in enumerate(x_values):\n",
    "        p2[i] = gaussian(x, mu, sig) *x/0.2\n",
    "\n",
    "    ind = np.argmax(p2)\n",
    "    return x_values[ind]"
   ]
  },
  {
   "cell_type": "code",
   "execution_count": null,
   "metadata": {
    "id": "6ZfNDd4N3csh"
   },
   "outputs": [],
   "source": [
    "def curve_parameter(mu,sig, vol_dict):\n",
    "    category = 5\n",
    "    vol = [0]*(category)\n",
    "    for v in range(1,category+1,1):\n",
    "        # print(v)\n",
    "        st = vol_dict[v][0];\n",
    "        end = vol_dict[v][1];\n",
    "        n_pnts = 1000\n",
    "        x_values = np.linspace(st, end, n_pnts)\n",
    "        vol[v-1] = float(\"{:.2f}\".format(max_prob(x_values, mu, sig,n_pnts)))\n",
    "        # print(max_prob(x_values, mu, sig,n_pnts), v)\n",
    "    return vol    "
   ]
  },
  {
   "cell_type": "code",
   "execution_count": null,
   "metadata": {
    "colab": {
     "base_uri": "https://localhost:8080/"
    },
    "executionInfo": {
     "elapsed": 357,
     "status": "ok",
     "timestamp": 1656298121428,
     "user": {
      "displayName": "Md. Shahiduzzaman",
      "userId": "15039907332176517902"
     },
     "user_tz": -360
    },
    "id": "vD6trhN3XmlS",
    "outputId": "fba9de07-e395-4d5c-d55a-b1cad2142b20"
   },
   "outputs": [
    {
     "name": "stdout",
     "output_type": "stream",
     "text": [
      "[18.7, 23.4, 25.75, 26.87, 29.7]\n"
     ]
    }
   ],
   "source": [
    "#high-way\n",
    "vol_dict = {1: [11.2, 18.7], 2: [18.8, 23.4], 3: [23.5, 26.77], 4: [26.87, 29.6], 5: [29.7, 36.65]} \n",
    "mu = 23.89 \n",
    "sig = 6.92\n",
    "\n",
    "vol_high = curve_parameter(mu,sig, vol_dict);\n",
    "print(vol_high)"
   ]
  },
  {
   "cell_type": "code",
   "execution_count": null,
   "metadata": {
    "colab": {
     "base_uri": "https://localhost:8080/"
    },
    "executionInfo": {
     "elapsed": 364,
     "status": "ok",
     "timestamp": 1656298138556,
     "user": {
      "displayName": "Md. Shahiduzzaman",
      "userId": "15039907332176517902"
     },
     "user_tz": -360
    },
    "id": "tFEfo73zoPET",
    "outputId": "cb92c0fb-3a09-4ec9-cd0f-4e5a0ca0a0ea"
   },
   "outputs": [
    {
     "name": "stdout",
     "output_type": "stream",
     "text": [
      "[2.2, 3.9, 5.95, 6.47, 7.2]\n"
     ]
    }
   ],
   "source": [
    "#major_road\n",
    "vol_dict = {1: [0.0, 2.2], 2: [2.3, 3.9], 3: [4.0, 5.95], 4: [6.05, 7.1], 5: [7.2, 12.2]} \n",
    "mu = 4.93\n",
    "sig = 3.16\n",
    "\n",
    "vol_major = curve_parameter(mu,sig, vol_dict);\n",
    "print(vol_major)"
   ]
  },
  {
   "cell_type": "code",
   "execution_count": null,
   "metadata": {
    "colab": {
     "base_uri": "https://localhost:8080/"
    },
    "executionInfo": {
     "elapsed": 352,
     "status": "ok",
     "timestamp": 1656298147108,
     "user": {
      "displayName": "Md. Shahiduzzaman",
      "userId": "15039907332176517902"
     },
     "user_tz": -360
    },
    "id": "dsJ3rAbWoPBT",
    "outputId": "fec9169c-e8df-43b5-ab22-f39bbe36dbb7"
   },
   "outputs": [
    {
     "name": "stdout",
     "output_type": "stream",
     "text": [
      "[0.77, 1.6, 3.1, 4.65, 5.7]\n"
     ]
    }
   ],
   "source": [
    "#small_road\n",
    "vol_dict = {1: [0.1, 0.77], 2: [0.87, 1.6], 3: [1.7, 3.1], 4: [3.2, 5.6], 5: [5.7, 8.5]} \n",
    "mu = 3.18 \n",
    "sig = 2.61\n",
    "\n",
    "vol_small = curve_parameter(mu,sig, vol_dict);\n",
    "print(vol_small)"
   ]
  },
  {
   "cell_type": "code",
   "execution_count": null,
   "metadata": {
    "colab": {
     "base_uri": "https://localhost:8080/"
    },
    "executionInfo": {
     "elapsed": 399,
     "status": "ok",
     "timestamp": 1656065999765,
     "user": {
      "displayName": "MD. Shahiduzzaman",
      "userId": "09476055823801540995"
     },
     "user_tz": -360
    },
    "id": "H_ux_yS3297j",
    "outputId": "7da056f1-9247-4c17-adda-64468dc7e800"
   },
   "outputs": [
    {
     "data": {
      "text/plain": [
       "55.790059014940404"
      ]
     },
     "execution_count": 14,
     "metadata": {},
     "output_type": "execute_result"
    }
   ],
   "source": [
    "#cumulative prob\n",
    "p1 = [0] * pnts\n",
    "for i,x in enumerate(x_values):\n",
    "    p1[i] = gaussian(x, mu, sig) *x/0.2\n",
    "    if i>0:\n",
    "        p1[i] = p1[i] + p1[i-1];\n",
    "\n",
    "mp.plot(x_values, p1)\n",
    "mp.show()"
   ]
  },
  {
   "cell_type": "code",
   "execution_count": null,
   "metadata": {
    "colab": {
     "base_uri": "https://localhost:8080/",
     "height": 265
    },
    "executionInfo": {
     "elapsed": 503,
     "status": "ok",
     "timestamp": 1656066306670,
     "user": {
      "displayName": "MD. Shahiduzzaman",
      "userId": "09476055823801540995"
     },
     "user_tz": -360
    },
    "id": "L4h0kDM9O213",
    "outputId": "88a26d92-119f-4601-e47f-9d5b29e8640a"
   },
   "outputs": [
    {
     "data": {
      "image/png": "[encoded data removed]",
      "text/plain": [
       "<Figure size 432x288 with 1 Axes>"
      ]
     },
     "metadata": {
      "needs_background": "light"
     },
     "output_type": "display_data"
    }
   ],
   "source": [
    "mp.plot(x_values, p2)\n",
    "mp.show()"
   ]
  },
  {
   "cell_type": "code",
   "execution_count": null,
   "metadata": {
    "colab": {
     "base_uri": "https://localhost:8080/",
     "height": 317
    },
    "executionInfo": {
     "elapsed": 1489,
     "status": "ok",
     "timestamp": 1655976240939,
     "user": {
      "displayName": "MD. Shahiduzzaman",
      "userId": "09476055823801540995"
     },
     "user_tz": -360
    },
    "id": "gdtkK1vb3coA",
    "outputId": "943dc54c-abd2-44d1-a8a5-e19531c886f5"
   },
   "outputs": [
    {
     "data": {
      "image/png": "[encoded data removed]",
      "text/plain": [
       "<Figure size 432x288 with 1 Axes>"
      ]
     },
     "metadata": {
      "needs_background": "light"
     },
     "output_type": "display_data"
    }
   ],
   "source": [
    "dat = x_values;\n",
    "cdf = np.zeros(len(x_values))\n",
    "n = float(len(x_values))\n",
    "for i, val in enumerate(x_values):\n",
    "      cdf[i] = np.sum(gaussian(dat <= val, mu, sig))\n",
    "mp.plot(x_values, cdf, \"-\");"
   ]
  },
  {
   "cell_type": "code",
   "execution_count": null,
   "metadata": {
    "id": "ZU2MZTTy3cf5",
    "outputId": "3e8aee14-e3e6-4f2d-c737-3962c41bba1f"
   },
   "outputs": [
    {
     "data": {
      "text/plain": [
       "array([ True,  True,  True,  True,  True,  True,  True,  True,  True,\n",
       "        True,  True,  True,  True,  True,  True,  True,  True,  True,\n",
       "        True,  True,  True,  True,  True,  True,  True,  True,  True,\n",
       "        True,  True,  True,  True,  True,  True,  True,  True,  True,\n",
       "        True,  True,  True,  True,  True,  True,  True,  True,  True,\n",
       "        True,  True,  True,  True,  True,  True,  True,  True,  True,\n",
       "        True,  True,  True,  True,  True,  True,  True,  True,  True,\n",
       "        True,  True,  True,  True,  True,  True,  True,  True,  True,\n",
       "        True,  True,  True,  True,  True,  True,  True,  True,  True,\n",
       "        True,  True,  True,  True,  True,  True,  True,  True,  True,\n",
       "        True,  True,  True,  True,  True,  True,  True,  True,  True,\n",
       "        True,  True,  True,  True,  True,  True,  True,  True,  True,\n",
       "        True,  True,  True,  True,  True,  True,  True,  True,  True,\n",
       "        True,  True,  True,  True,  True,  True,  True,  True,  True,\n",
       "        True,  True,  True,  True,  True,  True,  True,  True,  True,\n",
       "        True,  True,  True,  True,  True,  True,  True,  True,  True,\n",
       "        True,  True,  True,  True,  True,  True,  True,  True,  True,\n",
       "        True,  True,  True,  True,  True,  True,  True,  True,  True,\n",
       "        True,  True,  True,  True,  True,  True,  True,  True,  True,\n",
       "        True,  True,  True,  True,  True,  True,  True,  True,  True,\n",
       "        True,  True,  True,  True,  True,  True,  True,  True,  True,\n",
       "        True,  True,  True,  True,  True,  True,  True,  True,  True,\n",
       "        True,  True,  True,  True,  True,  True,  True,  True,  True,\n",
       "        True,  True,  True,  True,  True,  True,  True,  True,  True,\n",
       "        True,  True,  True,  True,  True,  True,  True,  True,  True,\n",
       "        True,  True,  True,  True,  True,  True,  True,  True,  True,\n",
       "        True,  True,  True,  True,  True,  True,  True,  True,  True,\n",
       "        True,  True,  True,  True,  True,  True,  True,  True,  True,\n",
       "        True,  True,  True,  True,  True,  True,  True,  True,  True,\n",
       "        True,  True,  True,  True,  True,  True,  True,  True,  True,\n",
       "        True,  True,  True,  True,  True,  True,  True,  True,  True,\n",
       "        True,  True,  True,  True,  True,  True,  True,  True,  True,\n",
       "        True,  True,  True,  True,  True,  True,  True,  True,  True,\n",
       "        True,  True,  True,  True,  True,  True,  True,  True,  True,\n",
       "        True,  True,  True,  True,  True,  True,  True,  True,  True,\n",
       "        True,  True,  True,  True,  True,  True,  True,  True,  True,\n",
       "        True,  True,  True,  True,  True,  True,  True,  True,  True,\n",
       "        True,  True,  True,  True,  True,  True,  True,  True,  True,\n",
       "        True,  True,  True,  True,  True,  True,  True,  True,  True,\n",
       "        True,  True,  True,  True,  True,  True,  True,  True,  True,\n",
       "        True,  True,  True,  True,  True,  True,  True,  True,  True,\n",
       "        True,  True,  True,  True,  True,  True,  True,  True,  True,\n",
       "        True,  True,  True,  True,  True,  True,  True,  True,  True,\n",
       "        True,  True,  True,  True,  True,  True,  True,  True,  True,\n",
       "        True,  True,  True,  True,  True,  True,  True,  True,  True,\n",
       "        True,  True,  True,  True,  True,  True,  True,  True,  True,\n",
       "        True,  True,  True,  True,  True,  True,  True,  True,  True,\n",
       "        True,  True,  True,  True,  True,  True,  True,  True,  True,\n",
       "        True,  True,  True,  True,  True,  True,  True,  True,  True,\n",
       "        True,  True,  True,  True,  True,  True,  True,  True,  True,\n",
       "        True,  True,  True,  True,  True,  True,  True,  True,  True,\n",
       "        True,  True,  True,  True,  True,  True,  True,  True,  True,\n",
       "        True,  True,  True,  True,  True,  True,  True,  True,  True,\n",
       "        True,  True,  True,  True,  True,  True,  True,  True,  True,\n",
       "        True,  True,  True,  True,  True,  True,  True,  True,  True,\n",
       "        True,  True,  True,  True,  True,  True, False, False, False,\n",
       "       False, False, False, False, False, False, False, False, False,\n",
       "       False, False, False, False, False, False, False, False, False,\n",
       "       False, False, False, False, False, False, False, False, False,\n",
       "       False, False, False, False, False, False, False, False, False,\n",
       "       False, False, False, False, False, False, False, False, False,\n",
       "       False, False, False, False, False, False, False, False, False,\n",
       "       False, False, False, False, False, False, False, False, False,\n",
       "       False, False, False, False, False, False, False, False, False,\n",
       "       False, False, False, False, False, False, False, False, False,\n",
       "       False, False, False, False, False, False, False, False, False,\n",
       "       False, False, False, False, False, False, False, False, False,\n",
       "       False, False, False, False, False, False, False, False, False,\n",
       "       False, False, False, False, False, False, False, False, False,\n",
       "       False, False, False, False, False, False, False, False, False,\n",
       "       False, False, False, False, False, False, False, False, False,\n",
       "       False, False, False, False, False, False, False, False, False,\n",
       "       False, False, False, False, False, False, False, False, False,\n",
       "       False, False, False, False, False, False, False, False, False,\n",
       "       False, False, False, False, False, False, False, False, False,\n",
       "       False, False, False, False, False, False, False, False, False,\n",
       "       False, False, False, False, False, False, False, False, False,\n",
       "       False, False, False, False, False, False, False, False, False,\n",
       "       False, False, False, False, False, False, False, False, False,\n",
       "       False, False, False, False, False, False, False, False, False,\n",
       "       False, False, False, False, False, False, False, False, False,\n",
       "       False, False, False, False, False, False, False, False, False,\n",
       "       False, False, False, False, False, False, False, False, False,\n",
       "       False, False, False, False, False, False, False, False, False,\n",
       "       False, False, False, False, False, False, False, False, False,\n",
       "       False, False, False, False, False, False, False, False, False,\n",
       "       False, False, False, False, False, False, False, False, False,\n",
       "       False, False, False, False, False, False, False, False, False,\n",
       "       False, False, False, False, False, False, False, False, False,\n",
       "       False, False, False, False, False, False, False, False, False,\n",
       "       False, False, False, False, False, False, False, False, False,\n",
       "       False, False, False, False, False, False, False, False, False,\n",
       "       False, False, False, False, False, False, False, False, False,\n",
       "       False, False, False, False, False, False, False, False, False,\n",
       "       False, False, False, False, False, False, False, False, False,\n",
       "       False, False, False, False, False, False, False, False, False,\n",
       "       False, False, False, False, False, False, False, False, False,\n",
       "       False, False, False, False, False, False, False, False, False,\n",
       "       False, False, False, False, False, False, False, False, False,\n",
       "       False, False, False, False, False, False, False, False, False,\n",
       "       False, False, False, False, False, False, False, False, False,\n",
       "       False, False, False, False, False, False, False, False, False,\n",
       "       False, False, False, False, False, False, False, False, False,\n",
       "       False, False, False, False, False, False, False, False, False,\n",
       "       False, False, False, False, False, False, False, False, False,\n",
       "       False, False, False, False, False, False, False, False, False,\n",
       "       False, False, False, False, False, False, False, False, False,\n",
       "       False, False, False, False, False, False, False, False, False,\n",
       "       False, False, False, False, False, False, False, False, False,\n",
       "       False, False, False, False, False, False, False, False, False,\n",
       "       False, False, False, False, False, False, False, False, False,\n",
       "       False])"
      ]
     },
     "execution_count": 27,
     "metadata": {},
     "output_type": "execute_result"
    }
   ],
   "source": [
    "dat <= 24"
   ]
  }
 ],
 "metadata": {
  "colab": {
   "collapsed_sections": [],
   "provenance": []
  },
  "kernelspec": {
   "display_name": "thesis_venv",
   "language": "python",
   "name": "python3"
  },
  "language_info": {
   "codemirror_mode": {
    "name": "ipython",
    "version": 3
   },
   "file_extension": ".py",
   "mimetype": "text/x-python",
   "name": "python",
   "nbconvert_exporter": "python",
   "pygments_lexer": "ipython3",
   "version": "3.12.4"
  }
 },
 "nbformat": 4,
 "nbformat_minor": 0
}
